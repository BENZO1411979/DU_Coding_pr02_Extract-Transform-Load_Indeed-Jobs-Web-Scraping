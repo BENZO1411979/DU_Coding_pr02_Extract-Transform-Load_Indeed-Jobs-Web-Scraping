{
 "cells": [
  {
   "cell_type": "code",
   "execution_count": 1,
   "metadata": {},
   "outputs": [],
   "source": [
    "import requests\n",
    "import bs4\n",
    "from bs4 import BeautifulSoup\n",
    "import pandas as pd\n",
    "import time"
   ]
  },
  {
   "cell_type": "code",
   "execution_count": 151,
   "metadata": {},
   "outputs": [
    {
     "name": "stdout",
     "output_type": "stream",
     "text": [
      "<Response [200]>\n"
     ]
    }
   ],
   "source": [
    "URL = 'http://www.indeed.com/jobs?q=developer+%2420%2C000&l=Denver&start=20'\n",
    "#conducting a request of the stated URL above:\n",
    "page = requests.get(URL)\n",
    "print(page)"
   ]
  },
  {
   "cell_type": "code",
   "execution_count": 152,
   "metadata": {},
   "outputs": [],
   "source": [
    "#specifying a desired format of “page” using the html parser \n",
    "soup = BeautifulSoup(page.text, 'html.parser')\n",
    "#printing soup in a more structured tree format that makes for easier reading\n",
    "# print(soup.prettify())"
   ]
  },
  {
   "cell_type": "code",
   "execution_count": 153,
   "metadata": {},
   "outputs": [],
   "source": [
    "def extract_job_title_from_result(soup):\n",
    "    jobs = []\n",
    "    for div in soup.find_all(name='div', attrs={\"class\":\"row\"}):\n",
    "        for a in div.find_all(name=\"a\", attrs={ \"data-tn-element\" : \"jobTitle\" }):\n",
    "            jobs.append(a[\"title\"])\n",
    "    return(jobs)"
   ]
  },
  {
   "cell_type": "code",
   "execution_count": 167,
   "metadata": {},
   "outputs": [],
   "source": [
    "jobss=extract_job_title_from_result(soup)"
   ]
  },
  {
   "cell_type": "code",
   "execution_count": 162,
   "metadata": {},
   "outputs": [],
   "source": [
    "def extract_company_from_result(soup): \n",
    "    companies = []\n",
    "    for div in soup.find_all(name=\"div\", attrs={\"class\":\"row\"}):\n",
    "        company = div.find_all(name=\"span\", attrs={\"class\":\"company\"})\n",
    "        if len(company) > 0:\n",
    "            for b in company:\n",
    "                companies.append(b.text.strip())\n",
    "        else:\n",
    "            sec_try = div.find_all(name=\"span\", attrs={\"class\":\"result-link-source\"})\n",
    "            for span in sec_try:\n",
    "                companies.append(span.text.strip())\n",
    "                                \n",
    "    return(companies)\n",
    " "
   ]
  },
  {
   "cell_type": "code",
   "execution_count": 165,
   "metadata": {},
   "outputs": [],
   "source": [
    "company=extract_company_from_result(soup)"
   ]
  },
  {
   "cell_type": "code",
   "execution_count": 157,
   "metadata": {},
   "outputs": [],
   "source": [
    "def extract_location_from_result(soup):\n",
    "    locations = []\n",
    "    spans = soup.findAll(\"span\", attrs={\"class\": \"location\"})\n",
    "    for span in spans:\n",
    "        locations.append(span.text)\n",
    "    return(locations)"
   ]
  },
  {
   "cell_type": "code",
   "execution_count": 172,
   "metadata": {},
   "outputs": [
    {
     "data": {
      "text/plain": [
       "16"
      ]
     },
     "execution_count": 172,
     "metadata": {},
     "output_type": "execute_result"
    }
   ],
   "source": [
    "loc = extract_location_from_result(soup)\n",
    "len(loc)\n",
    "len(company)"
   ]
  },
  {
   "cell_type": "code",
   "execution_count": 173,
   "metadata": {},
   "outputs": [
    {
     "data": {
      "text/html": [
       "<div>\n",
       "<style scoped>\n",
       "    .dataframe tbody tr th:only-of-type {\n",
       "        vertical-align: middle;\n",
       "    }\n",
       "\n",
       "    .dataframe tbody tr th {\n",
       "        vertical-align: top;\n",
       "    }\n",
       "\n",
       "    .dataframe thead th {\n",
       "        text-align: right;\n",
       "    }\n",
       "</style>\n",
       "<table border=\"1\" class=\"dataframe\">\n",
       "  <thead>\n",
       "    <tr style=\"text-align: right;\">\n",
       "      <th></th>\n",
       "      <th>Job</th>\n",
       "      <th>Company</th>\n",
       "    </tr>\n",
       "  </thead>\n",
       "  <tbody>\n",
       "    <tr>\n",
       "      <th>0</th>\n",
       "      <td>Order Processing Assistant</td>\n",
       "      <td>The Company of Animals Ltd</td>\n",
       "    </tr>\n",
       "    <tr>\n",
       "      <th>1</th>\n",
       "      <td>Full Stack Developer</td>\n",
       "      <td>Oakman Aerospace, Inc.</td>\n",
       "    </tr>\n",
       "    <tr>\n",
       "      <th>2</th>\n",
       "      <td>Cloud Platform Developer</td>\n",
       "      <td>Xero</td>\n",
       "    </tr>\n",
       "    <tr>\n",
       "      <th>3</th>\n",
       "      <td>Robotic Process Automation Developer RPA - USA</td>\n",
       "      <td>Accenture</td>\n",
       "    </tr>\n",
       "    <tr>\n",
       "      <th>4</th>\n",
       "      <td>NAGPRA Liaison and Associate Curator of Archae...</td>\n",
       "      <td>State of Colorado Job Opportunities</td>\n",
       "    </tr>\n",
       "    <tr>\n",
       "      <th>5</th>\n",
       "      <td>Firebase backend Developer / NoSQL Developer</td>\n",
       "      <td>Huck Adventures</td>\n",
       "    </tr>\n",
       "    <tr>\n",
       "      <th>6</th>\n",
       "      <td>Access Targeting and Compliance Manager - Entr...</td>\n",
       "      <td>National Security Agency</td>\n",
       "    </tr>\n",
       "    <tr>\n",
       "      <th>7</th>\n",
       "      <td>Accounting Assistant</td>\n",
       "      <td>The Company of Animals Ltd</td>\n",
       "    </tr>\n",
       "    <tr>\n",
       "      <th>8</th>\n",
       "      <td>Front-end Web Developer</td>\n",
       "      <td>Revive Design Studios</td>\n",
       "    </tr>\n",
       "    <tr>\n",
       "      <th>9</th>\n",
       "      <td>Developer Advocate</td>\n",
       "      <td>HashiCorp</td>\n",
       "    </tr>\n",
       "    <tr>\n",
       "      <th>10</th>\n",
       "      <td>QA TESTER</td>\n",
       "      <td>Ace Technologies</td>\n",
       "    </tr>\n",
       "    <tr>\n",
       "      <th>11</th>\n",
       "      <td>Software Developer</td>\n",
       "      <td>State of Colorado Job Opportunities</td>\n",
       "    </tr>\n",
       "    <tr>\n",
       "      <th>12</th>\n",
       "      <td>Sales Support</td>\n",
       "      <td>The Company of Animals Ltd</td>\n",
       "    </tr>\n",
       "    <tr>\n",
       "      <th>13</th>\n",
       "      <td>Front End Developer</td>\n",
       "      <td>Bayshore Solutions</td>\n",
       "    </tr>\n",
       "    <tr>\n",
       "      <th>14</th>\n",
       "      <td>Software Developer Mobile Applications</td>\n",
       "      <td>SCRAM Systems</td>\n",
       "    </tr>\n",
       "    <tr>\n",
       "      <th>15</th>\n",
       "      <td>Software Developer</td>\n",
       "      <td>SCRAM Systems</td>\n",
       "    </tr>\n",
       "  </tbody>\n",
       "</table>\n",
       "</div>"
      ],
      "text/plain": [
       "                                                  Job  \\\n",
       "0                          Order Processing Assistant   \n",
       "1                                Full Stack Developer   \n",
       "2                            Cloud Platform Developer   \n",
       "3      Robotic Process Automation Developer RPA - USA   \n",
       "4   NAGPRA Liaison and Associate Curator of Archae...   \n",
       "5        Firebase backend Developer / NoSQL Developer   \n",
       "6   Access Targeting and Compliance Manager - Entr...   \n",
       "7                                Accounting Assistant   \n",
       "8                             Front-end Web Developer   \n",
       "9                                  Developer Advocate   \n",
       "10                                          QA TESTER   \n",
       "11                                 Software Developer   \n",
       "12                                      Sales Support   \n",
       "13                                Front End Developer   \n",
       "14             Software Developer Mobile Applications   \n",
       "15                                 Software Developer   \n",
       "\n",
       "                                Company  \n",
       "0            The Company of Animals Ltd  \n",
       "1                Oakman Aerospace, Inc.  \n",
       "2                                  Xero  \n",
       "3                             Accenture  \n",
       "4   State of Colorado Job Opportunities  \n",
       "5                       Huck Adventures  \n",
       "6              National Security Agency  \n",
       "7            The Company of Animals Ltd  \n",
       "8                 Revive Design Studios  \n",
       "9                             HashiCorp  \n",
       "10                     Ace Technologies  \n",
       "11  State of Colorado Job Opportunities  \n",
       "12           The Company of Animals Ltd  \n",
       "13                   Bayshore Solutions  \n",
       "14                        SCRAM Systems  \n",
       "15                        SCRAM Systems  "
      ]
     },
     "execution_count": 173,
     "metadata": {},
     "output_type": "execute_result"
    }
   ],
   "source": [
    "pd.DataFrame({ 'Job': jobss,'Company': company})"
   ]
  }
 ],
 "metadata": {
  "kernelspec": {
   "display_name": "Python 3",
   "language": "python",
   "name": "python3"
  },
  "language_info": {
   "codemirror_mode": {
    "name": "ipython",
    "version": 3
   },
   "file_extension": ".py",
   "mimetype": "text/x-python",
   "name": "python",
   "nbconvert_exporter": "python",
   "pygments_lexer": "ipython3",
   "version": "3.6.5"
  }
 },
 "nbformat": 4,
 "nbformat_minor": 2
}
